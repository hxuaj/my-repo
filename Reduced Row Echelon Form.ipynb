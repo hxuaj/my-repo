{
 "cells": [
  {
   "cell_type": "markdown",
   "metadata": {},
   "source": [
    "## Function to calculate Reduced Row Echelon Form"
   ]
  },
  {
   "cell_type": "code",
   "execution_count": 1,
   "metadata": {},
   "outputs": [
    {
     "name": "stdout",
     "output_type": "stream",
     "text": [
      "[[ 4. -2. -2.  0.]\n",
      " [-2.  8. -3. -3.]\n",
      " [-2. -3.  8. -3.]\n",
      " [ 0. -3. -3.  6.]]\n",
      "3\n",
      "[[ 1.  0.  0. -1.]\n",
      " [ 0.  1.  0. -1.]\n",
      " [ 0.  0.  1. -1.]\n",
      " [ 0.  0.  0.  0.]]\n"
     ]
    }
   ],
   "source": [
    "import numpy as np\n",
    "\n",
    "'''Reduced Row Echelon Form'''\n",
    "'''Input matrix should be float type.'''\n",
    "\n",
    "\n",
    "def my_rref(m):\n",
    "\n",
    "    if np.size(m) < 1: return print(\"This is an empty matrix.\")\n",
    "    pivot = 0\n",
    "    row = np.shape(m)[0]\n",
    "    column = np.shape(m)[1]\n",
    "\n",
    "    for pre_row in range(row):\n",
    "        i = pre_row\n",
    "        'print(\"m_pivot:\", m[i, pivot])'\n",
    "\n",
    "        while m[i, pivot] == 0:\n",
    "            print(i)\n",
    "            i += 1\n",
    "            if i >= row:\n",
    "                i = pre_row\n",
    "                pivot += 1\n",
    "                if pivot >= column :\n",
    "                    return print(m)\n",
    "        m[(pre_row, i), :] = m[(i, pre_row), :]\n",
    "        m[pre_row, :] = m[pre_row, :]/m[pre_row, pivot]\n",
    "        '''print(\"pre_row:\",m[pre_row, :])'''\n",
    "\n",
    "        for i in range(row):\n",
    "\n",
    "            if i != pre_row:\n",
    "                m[i, :] = m[i, :] - m[i, pivot]*m[pre_row, :]\n",
    "        pivot += 1\n",
    "        if pivot >= column:\n",
    "            return print(m)\n",
    "    print(m)\n",
    "\n",
    "\n",
    "a = np.array([[4,-2,-2,0],[-2,8,-3,-3],[-2,-3,8,-3],[0,-3,-3,6]],dtype=float)\n",
    "print(a)\n",
    "rref = my_rref(a)"
   ]
  }
 ],
 "metadata": {
  "kernelspec": {
   "display_name": "Python 3",
   "language": "python",
   "name": "python3"
  },
  "language_info": {
   "codemirror_mode": {
    "name": "ipython",
    "version": 3
   },
   "file_extension": ".py",
   "mimetype": "text/x-python",
   "name": "python",
   "nbconvert_exporter": "python",
   "pygments_lexer": "ipython3",
   "version": "3.6.5"
  }
 },
 "nbformat": 4,
 "nbformat_minor": 2
}
