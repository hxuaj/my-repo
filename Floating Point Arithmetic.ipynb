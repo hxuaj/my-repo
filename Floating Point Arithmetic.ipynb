{
 "cells": [
  {
   "cell_type": "markdown",
   "metadata": {},
   "source": [
    "## Floating-Point Arithmetic\n",
    "\n",
    "This notebook is based on the paper [< What Every Computer Scientist Should Know About Floating-Point Arithmetic>](https://docs.oracle.com/cd/E19957-01/806-3568/ncg_goldberg.html#1374). \n",
    "\n",
    "I wrote the code here for better understanding of the Floating-point."
   ]
  },
  {
   "cell_type": "markdown",
   "metadata": {},
   "source": [
    "### Floating-point Formats\n",
    "\n",
    "In general, a floating-point number will be represented as $\\pm \\ d_0.d_1d_2\\dots d_{p-1} \\times \\beta^e$, where $d_0.d_1d_2\\dots d_{p-1}$ is called the significand and has p digits(precision) and $\\beta$ is the base.\n",
    "$$(d_0+d_1\\beta^{-1}+\\dots+d_{p-1}\\beta^{-(p-1)})\\beta^e, (0\\le d_i<\\beta)$$\n",
    "\n",
    "When $\\beta= 2, p = 3, e_{min} = -1$ and $e_{max} = 2$ there are 16 normalized floating-point numbers, as the chart shown below:"
   ]
  },
  {
   "cell_type": "code",
   "execution_count": 66,
   "metadata": {},
   "outputs": [
    {
     "data": {
      "image/png": "[encoded data removed]",
      "text/plain": [
       "<matplotlib.figure.Figure at 0xca00048>"
      ]
     },
     "metadata": {},
     "output_type": "display_data"
    }
   ],
   "source": [
    "import numpy as np\n",
    "import matplotlib.pyplot as plt\n",
    "\n",
    "plt.figure(figsize=(15,1))\n",
    "beta = 2.0\n",
    "#p = 3\n",
    "e_min = -1\n",
    "e_max = 2\n",
    "d0 = 1\n",
    "d = {}\n",
    "a = []\n",
    "i = 0\n",
    "for d1 in [0, 1]:\n",
    "    for d2 in [0, 1]:\n",
    "        for e in range(e_min, e_max+1):\n",
    "            num = (d0 + d1*np.power(beta, -1) + d2*np.power(beta, -2))*np.power(beta, e)\n",
    "            d[i] = num\n",
    "            a.append(num)\n",
    "            i += 1\n",
    "            \n",
    "y = np.zeros(len(a))\n",
    "plt.plot(a, np.zeros_like(a) + 0., 'x')\n",
    "for _x, _y in zip(a, y):\n",
    "    plt.text(_x, _y, '%.2f' % _x, ha='center', va='bottom', size=8)\n",
    "#plt.plot(a, y, 'ro')\n",
    "\n",
    "#多行注释：ctrl+/\n",
    "#隐藏y轴\n",
    "#frame = plt.gca()\n",
    "#frame.axes.get_yaxis().set_visible(False)\n",
    "plt.show()"
   ]
  },
  {
   "cell_type": "code",
   "execution_count": 69,
   "metadata": {},
   "outputs": [
    {
     "data": {
      "text/plain": [
       "0.031200000000000002"
      ]
     },
     "execution_count": 69,
     "metadata": {},
     "output_type": "execute_result"
    }
   ],
   "source": [
    "3.12 * 0.01"
   ]
  },
  {
   "cell_type": "code",
   "execution_count": 74,
   "metadata": {},
   "outputs": [
    {
     "name": "stdout",
     "output_type": "stream",
     "text": [
      "double-precision floating-point format uses a 53-bit significand.\n"
     ]
    }
   ],
   "source": [
    "x = 1.0\n",
    "p = 0\n",
    "\n",
    "while x != x + 1:\n",
    "    x *= 2\n",
    "    p += 1\n",
    "\n",
    "print('double-precision floating-point format uses a {}-bit significand.'.format(p))"
   ]
  }
 ],
 "metadata": {
  "kernelspec": {
   "display_name": "Python 3",
   "language": "python",
   "name": "python3"
  },
  "language_info": {
   "codemirror_mode": {
    "name": "ipython",
    "version": 3
   },
   "file_extension": ".py",
   "mimetype": "text/x-python",
   "name": "python",
   "nbconvert_exporter": "python",
   "pygments_lexer": "ipython3",
   "version": "3.6.5"
  }
 },
 "nbformat": 4,
 "nbformat_minor": 2
}
