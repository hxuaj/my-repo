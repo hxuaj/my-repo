{
 "cells": [
  {
   "cell_type": "markdown",
   "metadata": {},
   "source": [
    "## Floating-Point Arithmetic\n",
    "\n",
    "This is the notebook of the paper [< What Every Computer Scientist Should Know About Floating-Point Arithmetic>](https://docs.oracle.com/cd/E19957-01/806-3568/ncg_goldberg.html#1374). I wrote the code here for better understanding of the Floating-point."
   ]
  },
  {
   "cell_type": "markdown",
   "metadata": {},
   "source": [
    "### Floating-point Formats\n",
    "\n",
    "In general, a floating-point number will be represented as $\\pm \\ d_0.d_1d_2\\dots d_{p-1} \\times \\beta^e$, where $d_0.d_1d_2\\dots d_{p-1}$ is called the significand and has p digits(precision) and $\\beta$ is the base.\n",
    "$$(d_0+d_1\\beta^{-1}+\\dots+d_{p-1}\\beta^{-(p-1)})\\beta^e, (0\\le d_i<\\beta)$$\n",
    "\n",
    "When $\\beta= 2, p = 3, e_{min} = -1$ and $e_{max} = 2$ there are 16 normalized floating-point numbers, as the chart shown below:"
   ]
  },
  {
   "cell_type": "code",
   "execution_count": 63,
   "metadata": {},
   "outputs": [
    {
     "data": {
      "image/png": "[encoded data removed]",
      "text/plain": [
       "<matplotlib.figure.Figure at 0x976d320>"
      ]
     },
     "metadata": {},
     "output_type": "display_data"
    }
   ],
   "source": [
    "import numpy as np\n",
    "import matplotlib.pyplot as plt\n",
    "\n",
    "plt.figure(figsize=(15,1))\n",
    "beta = 2.0\n",
    "#p = 3\n",
    "e_min = -1\n",
    "e_max = 2\n",
    "d0 = 1\n",
    "d = {}\n",
    "a = []\n",
    "i = 0\n",
    "for d1 in [0, 1]:\n",
    "    for d2 in [0, 1]:\n",
    "        for e in range(e_min, e_max+1):\n",
    "            num = (d0 + d1*np.power(beta, -1) + d2*np.power(beta, -2))*np.power(beta, e)\n",
    "            d[i] = num\n",
    "            a.append(num)\n",
    "            i += 1\n",
    "            \n",
    "y = np.zeros(len(a))\n",
    "plt.plot(a, np.zeros_like(a) + 0., 'x')\n",
    "for _x, _y in zip(a, y):\n",
    "    plt.text(_x, _y, '%.2f' % _x, ha='center', va='bottom', size=8)\n",
    "#plt.plot(a, y, 'ro')\n",
    "\n",
    "#多行注释：ctrl+/\n",
    "#隐藏y轴\n",
    "#frame = plt.gca()\n",
    "#frame.axes.get_yaxis().set_visible(False)\n",
    "plt.show()"
   ]
  },
  {
   "cell_type": "code",
   "execution_count": 64,
   "metadata": {},
   "outputs": [
    {
     "data": {
      "text/plain": [
       "0.031200000000000002"
      ]
     },
     "execution_count": 64,
     "metadata": {},
     "output_type": "execute_result"
    }
   ],
   "source": [
    "3.12 * 0.01"
   ]
  },
  {
   "cell_type": "code",
   "execution_count": 65,
   "metadata": {},
   "outputs": [
    {
     "name": "stdout",
     "output_type": "stream",
     "text": [
      "x =  9007199254740992.0\n",
      "double-precision floating-point format uses a 53-bit significand.\n"
     ]
    }
   ],
   "source": [
    "x = 1.0\n",
    "p = 0\n",
    "\n",
    "while x != x + 1:\n",
    "    x *= 2\n",
    "    p += 1\n",
    "\n",
    "print('x = ', x)\n",
    "print('double-precision floating-point format uses a {}-bit significand.'.format(p))"
   ]
  },
  {
   "cell_type": "markdown",
   "metadata": {},
   "source": [
    "### Relative Error and Ulps\n",
    "\n",
    "Squeezing infinitely many real numbers into a finite number of bits requires an approximate representation. Therefore the result of a floating-point calculation must often be rounded in order to fit back into its finite representation.\n",
    "\n",
    "Since rounding error is inherent in floating-point computation, it is important to measure it with Relative Error and Ulps.\n",
    "\n",
    "<b><em>Ulps</em></b> stands for \"units in the last place\". Consider the floating-point format with $\\beta=10, p=3$. If the floating-point number $d.d\\dots d \\times \\beta^e$ is used to represent $z$, then it is in error by $|d.d\\dots d - (z/\\beta^e)|\\beta^{p-1}$ units in the last place.\n",
    "$$Example\\ 1:\\ \\ if\\ the\\ real\\ number\\ 0.0314159\\ is\\ represented\\ as\\ 3.14\\times 10^{-2}$$\n",
    "$$then\\ it\\ is\\ in\\ error\\ by\\ .159 ulps$$\n",
    "\n",
    "<b><em>Relative Error</em></b> is the difference between floating-point format number and real number divided by the real number. The relative error that corresponds to 0.5ulp: $\\frac {1}{2} \\beta^{-p} \\le \\frac {1}{2}ulp \\le \\frac {\\beta}{2} \\beta^{-p}$.\n",
    "\n",
    "The upper bound $\\frac {\\beta}{2} \\beta^{-p}$ is called ***machine epsilon*** $\\epsilon$. The machine epsilon of Example 1 is $\\epsilon = 5\\times 10^{-3} = 0.005$ and the relative error would be expressed as $(.00159/3.14159)/.005)\\epsilon \\approx 0.1\\epsilon$.\n",
    "\n",
    "The most natual way to measure rounding error is in ulps. The Relatice Error is not sensitive to the quantity of the number, which means larger number may have lager error in ulps but the Relative Error might be the same.  However, when analyzing the rounding error caused by various formulas, relative error is a better measure.\n",
    "\n",
    "When a floating-point number is in error by N ulps, that means the number of contaminated digits is $log_{\\beta} N$. If the relative error in a computation is $N\\epsilon$, then contaminated digits $\\approx log_{\\beta}N$."
   ]
  },
  {
   "cell_type": "markdown",
   "metadata": {},
   "source": [
    "##### **Theorem 1**: Using a floating-point format with parameter $\\beta$ and $p$, and computing differences using $p$ digits, the relative error of the result can be as large as $\\beta - 1$."
   ]
  },
  {
   "cell_type": "markdown",
   "metadata": {},
   "source": [
    "##### **Theorem 2**: If $x$ and $y$ are floating-point numbers in a format with parameter $\\beta$ and $p$, and if subtraction is done with $p+1$ digits(i.e. one guard digit), then the _relative rounding error_ in the result is less then $2\\epsilon$."
   ]
  },
  {
   "cell_type": "markdown",
   "metadata": {},
   "source": [
    "### Cancellation\n",
    "\n",
    "When subtracting nearby quantities, the most of significant digits in the oerands may match and cancel each other.\n",
    "\n",
    "_Catastrophic cancellation_: e.g. subtraction of rounded number\n",
    "\n",
    "_Benign cancellation_: e.g. subtraction of exactly known quantities($x$ and $y$ have no rounding error, $x-y$ has small relative error less then $2\\epsilon$)\n",
    "\n",
    "***To eliminate the catastrophic cancellation, avoid subtracting very close numbers.***"
   ]
  },
  {
   "cell_type": "code",
   "execution_count": 95,
   "metadata": {},
   "outputs": [
    {
     "data": {
      "image/png": "[encoded data removed]",
      "text/plain": [
       "<matplotlib.figure.Figure at 0x9abfac8>"
      ]
     },
     "metadata": {},
     "output_type": "display_data"
    }
   ],
   "source": [
    "#The relative rounding error of (1ei - (1ei - 0.1))\n",
    "\n",
    "Rounding_error = np.array([])\n",
    "\n",
    "for i in range(0, 30):\n",
    "    Rounding_error = np.append(Rounding_error, \n",
    "                               np.abs(np.power(10, i) \n",
    "                                - (np.power(10, i) - 0.1) - 0.1)/0.1)\n",
    "    \n",
    "#print(Rounding_error)\n",
    "x = np.array([np.power(10.0, i) for i in range(0, 30)])\n",
    "plt.plot(np.log10(x), np.log10(Rounding_error))\n",
    "plt.xticks(np.linspace(0,30,6), [r'{}'.format(i) for i in range(0, 31, 6)])\n",
    "plt.yticks(np.linspace(-16,0,17), [r'1e{}'.format(i) for i in range(-16, 4)])\n",
    "plt.title(\"The relative rounding error of $10^i - (10^i - 0.1)$\")\n",
    "plt.xlabel(\"i\")\n",
    "plt.ylabel(\"Relative Error\")\n",
    "\n",
    "plt.show()"
   ]
  },
  {
   "cell_type": "code",
   "execution_count": null,
   "metadata": {},
   "outputs": [],
   "source": []
  }
 ],
 "metadata": {
  "kernelspec": {
   "display_name": "Python 3",
   "language": "python",
   "name": "python3"
  },
  "language_info": {
   "codemirror_mode": {
    "name": "ipython",
    "version": 3
   },
   "file_extension": ".py",
   "mimetype": "text/x-python",
   "name": "python",
   "nbconvert_exporter": "python",
   "pygments_lexer": "ipython3",
   "version": "3.6.5"
  }
 },
 "nbformat": 4,
 "nbformat_minor": 2
}
