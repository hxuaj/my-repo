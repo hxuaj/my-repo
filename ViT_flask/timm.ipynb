{
 "cells": [
  {
   "cell_type": "code",
   "execution_count": null,
   "id": "b530ec0b-a85d-4656-afb2-1c891f1b1323",
   "metadata": {
    "tags": []
   },
   "outputs": [],
   "source": [
    "import tfimm\n",
    "\n",
    "print(tfimm.list_models(pretrained=\"timm\"))"
   ]
  },
  {
   "cell_type": "code",
   "execution_count": null,
   "id": "391e2029-60e1-4054-ae7b-eb3a97b8ccbb",
   "metadata": {
    "tags": []
   },
   "outputs": [],
   "source": [
    "timm.create_model?"
   ]
  },
  {
   "cell_type": "code",
   "execution_count": 1,
   "id": "ed7ec654-c5a6-4f61-ad11-c3fa4f2e68d0",
   "metadata": {
    "tags": []
   },
   "outputs": [
    {
     "name": "stderr",
     "output_type": "stream",
     "text": [
      "/root/anaconda3/envs/tf214/lib/python3.9/site-packages/tqdm/auto.py:21: TqdmWarning: IProgress not found. Please update jupyter and ipywidgets. See https://ipywidgets.readthedocs.io/en/stable/user_install.html\n",
      "  from .autonotebook import tqdm as notebook_tqdm\n"
     ]
    }
   ],
   "source": [
    "import timm\n",
    "import os\n",
    "import numpy as np\n",
    "\n",
    "\n",
    "root_path = os.getcwd()\n",
    "model_dir = os.path.join(root_path, 'model', 'vit_timm')\n",
    "cfg_path = os.path.join(model_dir, 'config.json')\n",
    "data_dir = os.path.join(root_path, 'dataset', 'Fruit-Images-Dataset', 'Training')\n",
    "checkpoint_path = os.path.join(model_dir, 'pytorch_model.bin')\n",
    "model = timm.create_model('vit_base_patch8_224.augreg_in21k', \n",
    "                          # pretrained=True, \n",
    "                          # pretrained_cfg=cfg_path,\n",
    "                          checkpoint_path=checkpoint_path)\n",
    "model.eval() # set the model in evaluation mode\n",
    "data_config = timm.data.resolve_model_data_config(model)\n",
    "transforms_timm = timm.data.create_transform(**data_config, is_training=False)"
   ]
  },
  {
   "cell_type": "code",
   "execution_count": 15,
   "id": "a74f56b0-68d1-4ce6-8fe5-b84382443dd9",
   "metadata": {
    "tags": []
   },
   "outputs": [
    {
     "data": {
      "text/plain": [
       "\u001b[0;31mSignature:\u001b[0m\n",
       "\u001b[0mtimm\u001b[0m\u001b[0;34m.\u001b[0m\u001b[0mdata\u001b[0m\u001b[0;34m.\u001b[0m\u001b[0mcreate_transform\u001b[0m\u001b[0;34m(\u001b[0m\u001b[0;34m\u001b[0m\n",
       "\u001b[0;34m\u001b[0m    \u001b[0minput_size\u001b[0m\u001b[0;34m:\u001b[0m \u001b[0mUnion\u001b[0m\u001b[0;34m[\u001b[0m\u001b[0mint\u001b[0m\u001b[0;34m,\u001b[0m \u001b[0mTuple\u001b[0m\u001b[0;34m[\u001b[0m\u001b[0mint\u001b[0m\u001b[0;34m,\u001b[0m \u001b[0mint\u001b[0m\u001b[0;34m]\u001b[0m\u001b[0;34m,\u001b[0m \u001b[0mTuple\u001b[0m\u001b[0;34m[\u001b[0m\u001b[0mint\u001b[0m\u001b[0;34m,\u001b[0m \u001b[0mint\u001b[0m\u001b[0;34m,\u001b[0m \u001b[0mint\u001b[0m\u001b[0;34m]\u001b[0m\u001b[0;34m]\u001b[0m \u001b[0;34m=\u001b[0m \u001b[0;36m224\u001b[0m\u001b[0;34m,\u001b[0m\u001b[0;34m\u001b[0m\n",
       "\u001b[0;34m\u001b[0m    \u001b[0mis_training\u001b[0m\u001b[0;34m:\u001b[0m \u001b[0mbool\u001b[0m \u001b[0;34m=\u001b[0m \u001b[0;32mFalse\u001b[0m\u001b[0;34m,\u001b[0m\u001b[0;34m\u001b[0m\n",
       "\u001b[0;34m\u001b[0m    \u001b[0mno_aug\u001b[0m\u001b[0;34m:\u001b[0m \u001b[0mbool\u001b[0m \u001b[0;34m=\u001b[0m \u001b[0;32mFalse\u001b[0m\u001b[0;34m,\u001b[0m\u001b[0;34m\u001b[0m\n",
       "\u001b[0;34m\u001b[0m    \u001b[0mtrain_crop_mode\u001b[0m\u001b[0;34m:\u001b[0m \u001b[0mOptional\u001b[0m\u001b[0;34m[\u001b[0m\u001b[0mstr\u001b[0m\u001b[0;34m]\u001b[0m \u001b[0;34m=\u001b[0m \u001b[0;32mNone\u001b[0m\u001b[0;34m,\u001b[0m\u001b[0;34m\u001b[0m\n",
       "\u001b[0;34m\u001b[0m    \u001b[0mscale\u001b[0m\u001b[0;34m:\u001b[0m \u001b[0mOptional\u001b[0m\u001b[0;34m[\u001b[0m\u001b[0mTuple\u001b[0m\u001b[0;34m[\u001b[0m\u001b[0mfloat\u001b[0m\u001b[0;34m,\u001b[0m \u001b[0mfloat\u001b[0m\u001b[0;34m]\u001b[0m\u001b[0;34m]\u001b[0m \u001b[0;34m=\u001b[0m \u001b[0;32mNone\u001b[0m\u001b[0;34m,\u001b[0m\u001b[0;34m\u001b[0m\n",
       "\u001b[0;34m\u001b[0m    \u001b[0mratio\u001b[0m\u001b[0;34m:\u001b[0m \u001b[0mOptional\u001b[0m\u001b[0;34m[\u001b[0m\u001b[0mTuple\u001b[0m\u001b[0;34m[\u001b[0m\u001b[0mfloat\u001b[0m\u001b[0;34m,\u001b[0m \u001b[0mfloat\u001b[0m\u001b[0;34m]\u001b[0m\u001b[0;34m]\u001b[0m \u001b[0;34m=\u001b[0m \u001b[0;32mNone\u001b[0m\u001b[0;34m,\u001b[0m\u001b[0;34m\u001b[0m\n",
       "\u001b[0;34m\u001b[0m    \u001b[0mhflip\u001b[0m\u001b[0;34m:\u001b[0m \u001b[0mfloat\u001b[0m \u001b[0;34m=\u001b[0m \u001b[0;36m0.5\u001b[0m\u001b[0;34m,\u001b[0m\u001b[0;34m\u001b[0m\n",
       "\u001b[0;34m\u001b[0m    \u001b[0mvflip\u001b[0m\u001b[0;34m:\u001b[0m \u001b[0mfloat\u001b[0m \u001b[0;34m=\u001b[0m \u001b[0;36m0.0\u001b[0m\u001b[0;34m,\u001b[0m\u001b[0;34m\u001b[0m\n",
       "\u001b[0;34m\u001b[0m    \u001b[0mcolor_jitter\u001b[0m\u001b[0;34m:\u001b[0m \u001b[0mUnion\u001b[0m\u001b[0;34m[\u001b[0m\u001b[0mfloat\u001b[0m\u001b[0;34m,\u001b[0m \u001b[0mTuple\u001b[0m\u001b[0;34m[\u001b[0m\u001b[0mfloat\u001b[0m\u001b[0;34m,\u001b[0m \u001b[0;34m...\u001b[0m\u001b[0;34m]\u001b[0m\u001b[0;34m]\u001b[0m \u001b[0;34m=\u001b[0m \u001b[0;36m0.4\u001b[0m\u001b[0;34m,\u001b[0m\u001b[0;34m\u001b[0m\n",
       "\u001b[0;34m\u001b[0m    \u001b[0mcolor_jitter_prob\u001b[0m\u001b[0;34m:\u001b[0m \u001b[0mOptional\u001b[0m\u001b[0;34m[\u001b[0m\u001b[0mfloat\u001b[0m\u001b[0;34m]\u001b[0m \u001b[0;34m=\u001b[0m \u001b[0;32mNone\u001b[0m\u001b[0;34m,\u001b[0m\u001b[0;34m\u001b[0m\n",
       "\u001b[0;34m\u001b[0m    \u001b[0mgrayscale_prob\u001b[0m\u001b[0;34m:\u001b[0m \u001b[0mfloat\u001b[0m \u001b[0;34m=\u001b[0m \u001b[0;36m0.0\u001b[0m\u001b[0;34m,\u001b[0m\u001b[0;34m\u001b[0m\n",
       "\u001b[0;34m\u001b[0m    \u001b[0mgaussian_blur_prob\u001b[0m\u001b[0;34m:\u001b[0m \u001b[0mfloat\u001b[0m \u001b[0;34m=\u001b[0m \u001b[0;36m0.0\u001b[0m\u001b[0;34m,\u001b[0m\u001b[0;34m\u001b[0m\n",
       "\u001b[0;34m\u001b[0m    \u001b[0mauto_augment\u001b[0m\u001b[0;34m:\u001b[0m \u001b[0mOptional\u001b[0m\u001b[0;34m[\u001b[0m\u001b[0mstr\u001b[0m\u001b[0;34m]\u001b[0m \u001b[0;34m=\u001b[0m \u001b[0;32mNone\u001b[0m\u001b[0;34m,\u001b[0m\u001b[0;34m\u001b[0m\n",
       "\u001b[0;34m\u001b[0m    \u001b[0minterpolation\u001b[0m\u001b[0;34m:\u001b[0m \u001b[0mstr\u001b[0m \u001b[0;34m=\u001b[0m \u001b[0;34m'bilinear'\u001b[0m\u001b[0;34m,\u001b[0m\u001b[0;34m\u001b[0m\n",
       "\u001b[0;34m\u001b[0m    \u001b[0mmean\u001b[0m\u001b[0;34m:\u001b[0m \u001b[0mTuple\u001b[0m\u001b[0;34m[\u001b[0m\u001b[0mfloat\u001b[0m\u001b[0;34m,\u001b[0m \u001b[0;34m...\u001b[0m\u001b[0;34m]\u001b[0m \u001b[0;34m=\u001b[0m \u001b[0;34m(\u001b[0m\u001b[0;36m0.485\u001b[0m\u001b[0;34m,\u001b[0m \u001b[0;36m0.456\u001b[0m\u001b[0;34m,\u001b[0m \u001b[0;36m0.406\u001b[0m\u001b[0;34m)\u001b[0m\u001b[0;34m,\u001b[0m\u001b[0;34m\u001b[0m\n",
       "\u001b[0;34m\u001b[0m    \u001b[0mstd\u001b[0m\u001b[0;34m:\u001b[0m \u001b[0mTuple\u001b[0m\u001b[0;34m[\u001b[0m\u001b[0mfloat\u001b[0m\u001b[0;34m,\u001b[0m \u001b[0;34m...\u001b[0m\u001b[0;34m]\u001b[0m \u001b[0;34m=\u001b[0m \u001b[0;34m(\u001b[0m\u001b[0;36m0.229\u001b[0m\u001b[0;34m,\u001b[0m \u001b[0;36m0.224\u001b[0m\u001b[0;34m,\u001b[0m \u001b[0;36m0.225\u001b[0m\u001b[0;34m)\u001b[0m\u001b[0;34m,\u001b[0m\u001b[0;34m\u001b[0m\n",
       "\u001b[0;34m\u001b[0m    \u001b[0mre_prob\u001b[0m\u001b[0;34m:\u001b[0m \u001b[0mfloat\u001b[0m \u001b[0;34m=\u001b[0m \u001b[0;36m0.0\u001b[0m\u001b[0;34m,\u001b[0m\u001b[0;34m\u001b[0m\n",
       "\u001b[0;34m\u001b[0m    \u001b[0mre_mode\u001b[0m\u001b[0;34m:\u001b[0m \u001b[0mstr\u001b[0m \u001b[0;34m=\u001b[0m \u001b[0;34m'const'\u001b[0m\u001b[0;34m,\u001b[0m\u001b[0;34m\u001b[0m\n",
       "\u001b[0;34m\u001b[0m    \u001b[0mre_count\u001b[0m\u001b[0;34m:\u001b[0m \u001b[0mint\u001b[0m \u001b[0;34m=\u001b[0m \u001b[0;36m1\u001b[0m\u001b[0;34m,\u001b[0m\u001b[0;34m\u001b[0m\n",
       "\u001b[0;34m\u001b[0m    \u001b[0mre_num_splits\u001b[0m\u001b[0;34m:\u001b[0m \u001b[0mint\u001b[0m \u001b[0;34m=\u001b[0m \u001b[0;36m0\u001b[0m\u001b[0;34m,\u001b[0m\u001b[0;34m\u001b[0m\n",
       "\u001b[0;34m\u001b[0m    \u001b[0mcrop_pct\u001b[0m\u001b[0;34m:\u001b[0m \u001b[0mOptional\u001b[0m\u001b[0;34m[\u001b[0m\u001b[0mfloat\u001b[0m\u001b[0;34m]\u001b[0m \u001b[0;34m=\u001b[0m \u001b[0;32mNone\u001b[0m\u001b[0;34m,\u001b[0m\u001b[0;34m\u001b[0m\n",
       "\u001b[0;34m\u001b[0m    \u001b[0mcrop_mode\u001b[0m\u001b[0;34m:\u001b[0m \u001b[0mOptional\u001b[0m\u001b[0;34m[\u001b[0m\u001b[0mstr\u001b[0m\u001b[0;34m]\u001b[0m \u001b[0;34m=\u001b[0m \u001b[0;32mNone\u001b[0m\u001b[0;34m,\u001b[0m\u001b[0;34m\u001b[0m\n",
       "\u001b[0;34m\u001b[0m    \u001b[0mcrop_border_pixels\u001b[0m\u001b[0;34m:\u001b[0m \u001b[0mOptional\u001b[0m\u001b[0;34m[\u001b[0m\u001b[0mint\u001b[0m\u001b[0;34m]\u001b[0m \u001b[0;34m=\u001b[0m \u001b[0;32mNone\u001b[0m\u001b[0;34m,\u001b[0m\u001b[0;34m\u001b[0m\n",
       "\u001b[0;34m\u001b[0m    \u001b[0mtf_preprocessing\u001b[0m\u001b[0;34m:\u001b[0m \u001b[0mbool\u001b[0m \u001b[0;34m=\u001b[0m \u001b[0;32mFalse\u001b[0m\u001b[0;34m,\u001b[0m\u001b[0;34m\u001b[0m\n",
       "\u001b[0;34m\u001b[0m    \u001b[0muse_prefetcher\u001b[0m\u001b[0;34m:\u001b[0m \u001b[0mbool\u001b[0m \u001b[0;34m=\u001b[0m \u001b[0;32mFalse\u001b[0m\u001b[0;34m,\u001b[0m\u001b[0;34m\u001b[0m\n",
       "\u001b[0;34m\u001b[0m    \u001b[0mseparate\u001b[0m\u001b[0;34m:\u001b[0m \u001b[0mbool\u001b[0m \u001b[0;34m=\u001b[0m \u001b[0;32mFalse\u001b[0m\u001b[0;34m,\u001b[0m\u001b[0;34m\u001b[0m\n",
       "\u001b[0;34m\u001b[0m\u001b[0;34m)\u001b[0m\u001b[0;34m\u001b[0m\u001b[0;34m\u001b[0m\u001b[0m\n",
       "\u001b[0;31mDocstring:\u001b[0m\n",
       "Args:\n",
       "    input_size: Target input size (channels, height, width) tuple or size scalar.\n",
       "    is_training: Return training (random) transforms.\n",
       "    no_aug: Disable augmentation for training (useful for debug).\n",
       "    train_crop_mode: Training random crop mode ('rrc', 'rkrc', 'rkrr').\n",
       "    scale: Random resize scale range (crop area, < 1.0 => zoom in).\n",
       "    ratio: Random aspect ratio range (crop ratio for RRC, ratio adjustment factor for RKR).\n",
       "    hflip: Horizontal flip probability.\n",
       "    vflip: Vertical flip probability.\n",
       "    color_jitter: Random color jitter component factors (brightness, contrast, saturation, hue).\n",
       "        Scalar is applied as (scalar,) * 3 (no hue).\n",
       "    color_jitter_prob: Apply color jitter with this probability if not None (for SimlCLR-like aug).\n",
       "    grayscale_prob: Probability of converting image to grayscale (for SimCLR-like aug).\n",
       "    gaussian_blur_prob: Probability of applying gaussian blur (for SimCLR-like aug).\n",
       "    auto_augment: Auto augment configuration string (see auto_augment.py).\n",
       "    interpolation: Image interpolation mode.\n",
       "    mean: Image normalization mean.\n",
       "    std: Image normalization standard deviation.\n",
       "    re_prob: Random erasing probability.\n",
       "    re_mode: Random erasing fill mode.\n",
       "    re_count: Number of random erasing regions.\n",
       "    re_num_splits: Control split of random erasing across batch size.\n",
       "    crop_pct: Inference crop percentage (output size / resize size).\n",
       "    crop_mode: Inference crop mode. One of ['squash', 'border', 'center']. Defaults to 'center' when None.\n",
       "    crop_border_pixels: Inference crop border of specified # pixels around edge of original image.\n",
       "    tf_preprocessing: Use TF 1.0 inference preprocessing for testing model ports\n",
       "    use_prefetcher: Pre-fetcher enabled. Do not convert image to tensor or normalize.\n",
       "    separate: Output transforms in 3-stage tuple.\n",
       "\n",
       "Returns:\n",
       "    Composed transforms or tuple thereof\n",
       "\u001b[0;31mFile:\u001b[0m      ~/anaconda3/envs/tf214/lib/python3.9/site-packages/timm/data/transforms_factory.py\n",
       "\u001b[0;31mType:\u001b[0m      function"
      ]
     },
     "metadata": {},
     "output_type": "display_data"
    }
   ],
   "source": [
    "timm.data.create_transform?"
   ]
  },
  {
   "cell_type": "code",
   "execution_count": 2,
   "id": "05ecba13-27b5-46f7-b4a0-3d4b1630dad1",
   "metadata": {
    "tags": []
   },
   "outputs": [
    {
     "name": "stdout",
     "output_type": "stream",
     "text": [
      "tensor([[11.7832],\n",
      "        [63.2757],\n",
      "        [32.8497],\n",
      "        [58.0160],\n",
      "        [14.2270],\n",
      "        [17.7258],\n",
      "        [50.9037],\n",
      "        [37.7923],\n",
      "        [33.7876],\n",
      "        [62.2489],\n",
      "        [28.0929],\n",
      "        [18.4387],\n",
      "        [66.1786],\n",
      "        [24.0341],\n",
      "        [85.1479],\n",
      "        [74.5199],\n",
      "        [23.6781],\n",
      "        [12.9566],\n",
      "        [38.2331],\n",
      "        [97.1061],\n",
      "        [86.4187],\n",
      "        [23.1649],\n",
      "        [34.7576],\n",
      "        [33.7956],\n",
      "        [84.6642],\n",
      "        [48.0698],\n",
      "        [80.0134],\n",
      "        [30.4072],\n",
      "        [52.8507],\n",
      "        [53.6827],\n",
      "        [80.1194],\n",
      "        [80.1208]], device='cuda:0', grad_fn=<TopkBackward0>) tensor([[17838],\n",
      "        [13178],\n",
      "        [21748],\n",
      "        [19367],\n",
      "        [13072],\n",
      "        [13003],\n",
      "        [20441],\n",
      "        [19481],\n",
      "        [13022],\n",
      "        [13068],\n",
      "        [13089],\n",
      "        [13051],\n",
      "        [19414],\n",
      "        [13052],\n",
      "        [20271],\n",
      "        [21748],\n",
      "        [19364],\n",
      "        [20824],\n",
      "        [13176],\n",
      "        [19414],\n",
      "        [13001],\n",
      "        [13369],\n",
      "        [13156],\n",
      "        [13176],\n",
      "        [13086],\n",
      "        [12156],\n",
      "        [13068],\n",
      "        [18624],\n",
      "        [18028],\n",
      "        [12969],\n",
      "        [13068],\n",
      "        [18849]], device='cuda:0')\n"
     ]
    }
   ],
   "source": [
    "import torch\n",
    "import torch.nn as nn\n",
    "from torchvision import transforms, datasets\n",
    "\n",
    "\n",
    "# transform = transforms.Compose([\n",
    "#     transforms.Resize((224, 224)),\n",
    "#     transforms.ToTensor(),\n",
    "#     # transforms.ToPILImage(),\n",
    "# ])\n",
    "\n",
    "device = torch.device(\"cuda\")\n",
    "model.to(device)\n",
    "if torch.cuda.device_count() > 1:\n",
    "    model = nn.DataParallel(model)\n",
    "    \n",
    "# dataset = datasets.ImageFolder(root=data_dir, transform=transform)\n",
    "dataset = datasets.ImageFolder(root=data_dir, transform=transforms_timm)\n",
    "dataloader = torch.utils.data.DataLoader(dataset, batch_size=32, shuffle=True)\n",
    "for images, labels in dataloader:\n",
    "    output = model(images.to(device))\n",
    "    top5_probabilities, top5_class_indices = torch.topk(output.softmax(dim=1) * 100, k=1)\n",
    "    print(top5_probabilities, top5_class_indices)\n",
    "    break"
   ]
  },
  {
   "cell_type": "code",
   "execution_count": 3,
   "id": "8a01b69a-10ef-4520-a053-642a99b8eeef",
   "metadata": {
    "tags": []
   },
   "outputs": [],
   "source": [
    "from huggingface_hub import hf_hub_download\n",
    "import json\n",
    "\n",
    "repo_id = \"huggingface/label-files\"\n",
    "filename = \"imagenet-22k-id2label.json\"\n",
    "id2label = json.load(open(filename, \"r\"))\n",
    "id2label = {int(k):v for k,v in id2label.items()}"
   ]
  },
  {
   "cell_type": "code",
   "execution_count": 19,
   "id": "ef22c4b8-eba7-45ef-b0b9-e35e9ecbefdf",
   "metadata": {
    "tags": []
   },
   "outputs": [
    {
     "name": "stdout",
     "output_type": "stream",
     "text": [
      "Cucumber Ripe [17838] Dutchman's-pipe, pipe_vine, Aristolochia_macrophylla, Aristolochia_durior\n",
      "Pear 2 [13178] bartlett, bartlett_pear\n",
      "Chestnut [21748] ovoid\n",
      "Banana Lady Finger [19367] edible_banana, Musa_paradisiaca_sapientum\n",
      "Cherry Wax Red [13072] plum\n",
      "Apple Braeburn [13003] Empire\n",
      "Pomegranate [20441] mango, mango_tree, Mangifera_indica\n",
      "Fig [19481] fig, common_fig, common_fig_tree, Ficus_carica\n",
      "Blueberry [13022] bilberry, whortleberry, European_blueberry\n",
      "Apricot [13068] apricot\n",
      "Passion Fruit [13089] passion_fruit\n",
      "Tangelo [13051] tangerine\n",
      "Kiwi [19414] Chinese_gooseberry, kiwi, kiwi_vine, Actinidia_chinensis, Actinidia_deliciosa\n",
      "Tangelo [13052] tangelo, ugli, ugli_fruit\n",
      "Carambula [20271] carambola, carambola_tree, Averrhoa_carambola\n",
      "Cucumber Ripe 2 [21748] ovoid\n",
      "Banana Red [19364] dwarf_banana, Musa_acuminata\n",
      "Tomato Heart [20824] plum_tomato\n",
      "Pear 2 [13176] bosc\n",
      "Kiwi [19414] Chinese_gooseberry, kiwi, kiwi_vine, Actinidia_chinensis, Actinidia_deliciosa\n",
      "Apple Golden 2 [13001] Golden_Delicious, Yellow_Delicious\n",
      "Pepper Yellow [13369] paprika\n",
      "Avocado [13156] avocado, alligator_pear, avocado_pear, aguacate\n",
      "Pear Kaiser [13176] bosc\n",
      "Pineapple Mini [13086] pineapple, ananas\n",
      "Hazelnut [12156] hangnail, agnail\n",
      "Peach 2 [13068] apricot\n",
      "Ginger Root [18624] yam\n",
      "Kohlrabi [18028] kohlrabi, Brassica_oleracea_gongylodes\n",
      "Tomato 1 [12969] plum_tomato\n",
      "Peach 2 [13068] apricot\n",
      "Watermelon [18849] winter_melon, Persian_melon, honeydew_melon, winter_melon_vine, Cucumis_melo_inodorus\n"
     ]
    }
   ],
   "source": [
    "indices = top5_class_indices.cpu().numpy()\n",
    "for n, i in enumerate(indices):\n",
    "    print(dataset.classes[labels[n]], i, id2label[i[0]])"
   ]
  },
  {
   "cell_type": "code",
   "execution_count": null,
   "id": "aca507f8-0aae-46fe-b87a-8174fbd1f069",
   "metadata": {},
   "outputs": [],
   "source": []
  }
 ],
 "metadata": {
  "kernelspec": {
   "display_name": "tf214",
   "language": "python",
   "name": "tf214"
  },
  "language_info": {
   "codemirror_mode": {
    "name": "ipython",
    "version": 3
   },
   "file_extension": ".py",
   "mimetype": "text/x-python",
   "name": "python",
   "nbconvert_exporter": "python",
   "pygments_lexer": "ipython3",
   "version": "3.9.18"
  }
 },
 "nbformat": 4,
 "nbformat_minor": 5
}
