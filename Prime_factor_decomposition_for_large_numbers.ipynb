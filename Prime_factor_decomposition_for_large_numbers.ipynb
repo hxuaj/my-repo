{
 "cells": [
  {
   "cell_type": "markdown",
   "metadata": {},
   "source": [
    "# 大数的质因数分解 (Prime factor decomposition for large numbers)"
   ]
  },
  {
   "cell_type": "markdown",
   "metadata": {},
   "source": [
    "一开始的思路是在一定范围内找到所有的质数，再在其中找到大数n的两个质因数。\n",
    "在找质数的过程中，从原来naive的穷举方式，做了两点优化：\n",
    "* 除了2以外的偶数，肯定不是质数\n",
    "* 在$\\sqrt {n}$中找不到其中一个因数，则$n$为质数。因为假如一个数$n$是合数，它有一个约数$a$，$a×b=n$，则$a$、$b$两个数中必有一个大于或等于$\\sqrt {n}$，一个小于或等于$\\sqrt {n}$。因此，只要小于或等于$\\sqrt {n}$的数（1除外）不能整除$n$，则$n$一定是素数。"
   ]
  },
  {
   "cell_type": "code",
   "execution_count": 1,
   "metadata": {},
   "outputs": [
    {
     "name": "stdout",
     "output_type": "stream",
     "text": [
      "Advance search, the two primes are: 83777, 85229\n",
      "Advance search, it takes 10.881689 seconds in your life time.\n"
     ]
    }
   ],
   "source": [
    "import time\n",
    "import math\n",
    "\n",
    "def My_Euclidean(a,b):\n",
    "    # 找到两个数的最大公倍数\n",
    "\n",
    "    if a <= b: \n",
    "        remainder = b % a\n",
    "        b = remainder\n",
    "    else: \n",
    "        remainder = a % b\n",
    "        a = remainder\n",
    "\n",
    "    if remainder > 0: return My_Euclidean(a,b)\n",
    "    else: return max(a, b)\n",
    "\n",
    "def find_prime(n):\n",
    "    temp = set()\n",
    "    full = set()\n",
    "    for i in range(3, n, 2):\n",
    "        full.add(i)\n",
    "        for j in range(3, i, 2):\n",
    "            if My_Euclidean(i, j) != 1:\n",
    "                temp.add(i)\n",
    "    return full - temp\n",
    "\n",
    "def find_prime_advance(n):\n",
    "    temp = set()\n",
    "    full = set()\n",
    "    for i in range(3, n, 2):\n",
    "        full.add(i)\n",
    "        \n",
    "        # 假如一个数N是合数，它有一个约数a,a×b=N，则a、b两个数中必有一个大于或等于根号N，一个小于或等于根号N。\n",
    "        # 因此，只要小于或等于根号N的数（1除外）不能整除N，则N一定是素数\n",
    "        for j in range(3, int(math.sqrt(i))+1, 2):\n",
    "            if i % j == 0:\n",
    "                temp.add(i)\n",
    "    return full - temp\n",
    "\n",
    "\n",
    "number = 7140229933\n",
    "n = 1000000  #质数范围\n",
    "\n",
    "# # Naive search\n",
    "# tic = time.time()\n",
    "# prime_number = find_prime(n)\n",
    "# prime_list = sorted(list(prime_number))\n",
    "\n",
    "# for i in prime_list:\n",
    "#     second_prime = number / i\n",
    "#     if second_prime == int(second_prime) and int(second_prime) in prime_list: \n",
    "#         if i < second_prime:\n",
    "#             print(\"Naive search, the two primes are: {}, {}\".format(i, int(second_prime)))\n",
    "# toc = time.time()\n",
    "# print(\"Naive search, it takes %f seconds in your life time.\" % (toc - tic))\n",
    "\n",
    "# Advance search\n",
    "tic = time.time()\n",
    "prime_number_advance = find_prime_advance(n)\n",
    "prime_list = sorted(list(prime_number_advance))\n",
    "\n",
    "for i in prime_list:\n",
    "    second_prime = number / i\n",
    "    if second_prime == int(second_prime) and int(second_prime) in prime_list: \n",
    "        if i < second_prime:\n",
    "            print(\"Advance search, the two primes are: {}, {}\".format(i, int(second_prime)))\n",
    "toc = time.time()\n",
    "print(\"Advance search, it takes %f seconds in your life time.\" % (toc - tic))"
   ]
  },
  {
   "cell_type": "markdown",
   "metadata": {},
   "source": [
    "理论结算下的Naive search需要大约半小时，计算复杂度为$o(N^2)$。即使是在优化之后的Advance search，仍然比较慢，原因是寻找并产生较大范围内的所有素数要花很长时间。这里是$10^6$。并且这种方式并不完整，完整的范围应该是number，这样范围就更大，速度也更慢。\n",
    "\n",
    "下面这种方法用另一种思路优化了大数的质因数分解的速度：\n",
    "\n",
    "与其找出一定范围所有的质数再在其中找质因数，不如在$\\sqrt(n)$的范围内只判断其中一个因数是否是质数，再判断大数与其的除数是否是质数。这样可以缩小搜索的范围。"
   ]
  },
  {
   "cell_type": "code",
   "execution_count": 2,
   "metadata": {},
   "outputs": [
    {
     "name": "stdout",
     "output_type": "stream",
     "text": [
      "The two primes are: 83777, 85229\n",
      "It takes 0.130000 seconds in your life time.\n"
     ]
    }
   ],
   "source": [
    "def is_prime(n):\n",
    "    # determine if number n is prime\n",
    "    if n == 1 or n == 2:\n",
    "        return True\n",
    "    elif n % 2 == 0: return False\n",
    "    else:\n",
    "        for i in range(3, int(math.sqrt(n)), 2):\n",
    "            if n % i == 0: return False\n",
    "    \n",
    "    return True\n",
    "\n",
    "\n",
    "number = 7140229933\n",
    "n = int(math.sqrt(number))+1\n",
    "\n",
    "tic = time.time()\n",
    "\n",
    "for i in range(3, n, 2):\n",
    "    if is_prime(i) == True:\n",
    "        second_prime = number / i\n",
    "        if second_prime == int(second_prime) and is_prime(int(second_prime)):\n",
    "            print(\"The two primes are: {}, {}\".format(i, int(second_prime)))\n",
    "\n",
    "toc = time.time()\n",
    "print(\"It takes %f seconds in your life time.\" % (toc - tic))"
   ]
  }
 ],
 "metadata": {
  "kernelspec": {
   "display_name": "Python 3",
   "language": "python",
   "name": "python3"
  },
  "language_info": {
   "codemirror_mode": {
    "name": "ipython",
    "version": 3
   },
   "file_extension": ".py",
   "mimetype": "text/x-python",
   "name": "python",
   "nbconvert_exporter": "python",
   "pygments_lexer": "ipython3",
   "version": "3.6.8"
  }
 },
 "nbformat": 4,
 "nbformat_minor": 2
}
